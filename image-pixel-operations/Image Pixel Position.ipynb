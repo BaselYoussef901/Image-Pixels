{
 "cells": [
  {
   "cell_type": "code",
   "execution_count": 19,
   "metadata": {},
   "outputs": [],
   "source": [
    "import tkinter as tk\n",
    "from tkinter import filedialog\n",
    "from PIL import Image, ImageTk"
   ]
  },
  {
   "cell_type": "markdown",
   "metadata": {},
   "source": [
    "# ***Global declarations for program use***"
   ]
  },
  {
   "cell_type": "code",
   "execution_count": 20,
   "metadata": {},
   "outputs": [],
   "source": [
    "# Create a list to store clicked pixel positions\n",
    "clicked_positions = []\n",
    "\n",
    "# Create a global variable to store the current image\n",
    "Image_Path = \"\""
   ]
  },
  {
   "cell_type": "markdown",
   "metadata": {},
   "source": [
    "# ***Image GUI***"
   ]
  },
  {
   "cell_type": "code",
   "execution_count": 21,
   "metadata": {},
   "outputs": [],
   "source": [
    "# Create the main window\n",
    "root = tk.Tk()\n",
    "root.title(\"Image Pixel Position Viewer\")\n",
    "\n",
    "# Create a frame to hold the canvas with scrolling\n",
    "frame = tk.Frame(root)\n",
    "frame.pack(fill=tk.BOTH, expand=True)\n",
    "\n",
    "# Create a canvas to display the image\n",
    "canvas = tk.Canvas(frame)\n",
    "canvas.pack(side=tk.LEFT, fill=tk.BOTH, expand=True)"
   ]
  },
  {
   "cell_type": "markdown",
   "metadata": {},
   "source": [
    "# ***Scroll Bar***"
   ]
  },
  {
   "cell_type": "code",
   "execution_count": 22,
   "metadata": {},
   "outputs": [],
   "source": [
    "# Create horizontal scrollbar\n",
    "canvas_xscrollbar = tk.Scrollbar(frame, orient=tk.HORIZONTAL, command=canvas.xview)\n",
    "canvas_xscrollbar.pack(side=tk.BOTTOM, fill=tk.X)\n",
    "canvas.configure(xscrollcommand=canvas_xscrollbar.set)\n",
    "\n",
    "# Create vertical scrollbar\n",
    "canvas_yscrollbar = tk.Scrollbar(frame, orient=tk.VERTICAL, command=canvas.yview)\n",
    "canvas_yscrollbar.pack(side=tk.RIGHT, fill=tk.Y)\n",
    "canvas.configure(yscrollcommand=canvas_yscrollbar.set)"
   ]
  },
  {
   "cell_type": "markdown",
   "metadata": {},
   "source": [
    "# ***Labels***"
   ]
  },
  {
   "cell_type": "code",
   "execution_count": 23,
   "metadata": {},
   "outputs": [],
   "source": [
    "# Create a label to display pixel position\n",
    "position_label = tk.Label(root, text=\"\")\n",
    "position_label.pack()\n",
    "\n",
    "positions_label = tk.Label(root, text=\"\")\n",
    "positions_label.pack()"
   ]
  },
  {
   "cell_type": "markdown",
   "metadata": {},
   "source": [
    "## ***Functions***"
   ]
  },
  {
   "cell_type": "code",
   "execution_count": 24,
   "metadata": {},
   "outputs": [],
   "source": [
    "# Function to open an image\n",
    "def open_image():\n",
    "    file_path = filedialog.askopenfilename(filetypes=[(\"Image files\", \"*.jpg *.png *.bmp\")])\n",
    "    if file_path:\n",
    "        global Image_Path\n",
    "        Image_Path = file_path\n",
    "        image = Image.open(file_path)\n",
    "        photo = ImageTk.PhotoImage(image)\n",
    "        canvas.create_image(0, 0, image=photo, anchor=tk.NW)\n",
    "        canvas.image = photo\n",
    "        canvas.config(scrollregion=canvas.bbox(\"all\"))\n",
    "\n",
    "# Function to display the pixel position and save it\n",
    "def show_pixel_position(event):\n",
    "    x, y = event.x + canvas_xscrollbar.get()[0], event.y + canvas_yscrollbar.get()[0]\n",
    "    position_label.config(text=f\"Position: ({x}, {y})\")\n",
    "\n",
    "# Function to insert position when mouse clicked\n",
    "def mouse_clicked(event):\n",
    "    x, y = event.x + canvas_xscrollbar.get()[0], event.y + canvas_yscrollbar.get()[0]\n",
    "    clicked_positions.append((x,y))\n",
    "\n",
    "# Function to display the saved positions\n",
    "def display_saved_positions():\n",
    "    positions_text = \"\\n\".join([f\"({x}, {y})\" for x, y in clicked_positions])\n",
    "    positions_label.config(text=positions_text)\n",
    "\n",
    "# Function to crop the image and re-displaying it\n",
    "def crop_image():\n",
    "    global Image_Path\n",
    "    x1 = clicked_positions[-2][0]\n",
    "    y1 = clicked_positions[-2][1]\n",
    "    x2 = clicked_positions[-1][0]\n",
    "    y2 = clicked_positions[-1][1]\n",
    "\n",
    "    image = Image.open(Image_Path)\n",
    "    cropped_image = image.crop((x1,y1,x2,y2))\n",
    "    cropped_image.save('cropped_image.jpg')\n",
    "    #print('Cropped Done')\n",
    "    Image_Path = 'cropped_image.jpg'\n",
    "    image = Image.open(Image_Path)\n",
    "    photo = ImageTk.PhotoImage(image)\n",
    "    canvas.create_image(0, 0, image=photo, anchor=tk.NW)\n",
    "    canvas.image = photo\n",
    "    canvas.config(scrollregion=canvas.bbox(\"all\"))\n"
   ]
  },
  {
   "cell_type": "markdown",
   "metadata": {},
   "source": [
    "# ***Buttons***"
   ]
  },
  {
   "cell_type": "code",
   "execution_count": 25,
   "metadata": {},
   "outputs": [],
   "source": [
    "# Create a button to open an image\n",
    "open_button = tk.Button(root, text=\"Open Image\", command=open_image)\n",
    "open_button.pack()\n",
    "\n",
    "# Create a button to cut an image by its last two (x,y) positions\n",
    "crop_image_button = tk.Button(root, text=\"Crop Image\", command=crop_image)\n",
    "crop_image_button.pack()\n",
    "\n",
    "# Create a button to display the saved positions\n",
    "show_positions_button = tk.Button(root, text=\"Show Positions\", command=display_saved_positions)\n",
    "show_positions_button.pack()"
   ]
  },
  {
   "cell_type": "markdown",
   "metadata": {},
   "source": [
    "# ***Program Run***"
   ]
  },
  {
   "cell_type": "code",
   "execution_count": 26,
   "metadata": {},
   "outputs": [
    {
     "data": {
      "text/plain": [
       "'1427798823616show_pixel_position'"
      ]
     },
     "execution_count": 26,
     "metadata": {},
     "output_type": "execute_result"
    }
   ],
   "source": [
    "# Bind a click event to the canvas (mouse button down and up)\n",
    "canvas.bind(\"<Button-1>\", mouse_clicked)\n",
    "\n",
    "# Bind the mouse motion event to the canvas\n",
    "canvas.bind(\"<Motion>\", show_pixel_position)"
   ]
  },
  {
   "cell_type": "code",
   "execution_count": 27,
   "metadata": {},
   "outputs": [],
   "source": [
    "root.mainloop()"
   ]
  }
 ],
 "metadata": {
  "kernelspec": {
   "display_name": "Python 3",
   "language": "python",
   "name": "python3"
  },
  "language_info": {
   "codemirror_mode": {
    "name": "ipython",
    "version": 3
   },
   "file_extension": ".py",
   "mimetype": "text/x-python",
   "name": "python",
   "nbconvert_exporter": "python",
   "pygments_lexer": "ipython3",
   "version": "3.9.1"
  },
  "orig_nbformat": 4
 },
 "nbformat": 4,
 "nbformat_minor": 2
}
